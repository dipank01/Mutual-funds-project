{
 "cells": [
  {
   "cell_type": "code",
   "execution_count": 9,
   "id": "25f966c5",
   "metadata": {},
   "outputs": [],
   "source": [
    "import psycopg2"
   ]
  },
  {
   "cell_type": "code",
   "execution_count": null,
   "id": "394f871d",
   "metadata": {},
   "outputs": [],
   "source": [
    "conn = psycopg2.connect(\n",
    "    host=\"localhost\",\n",
    "    database='final_project',\n",
    "    user='postgres',\n",
    "    password='PASSWORD',\n",
    "    port='5432'\n",
    ")\n",
    "\n",
    "curr = conn.cursor()"
   ]
  },
  {
   "cell_type": "code",
   "execution_count": 16,
   "id": "a5cefb01",
   "metadata": {},
   "outputs": [],
   "source": [
    "curr.execute(\n",
    "    '''\n",
    "    CREATE TABLE IF NOT EXISTS ticker_data (\n",
    "        date DATE,\n",
    "        ticker VARCHAR(50),\n",
    "        open NUMERIC(10, 3),\n",
    "        high NUMERIC(10, 3),\n",
    "        low NUMERIC(10, 3),\n",
    "        close NUMERIC(10, 3),\n",
    "        volume NUMERIC(15,2),\n",
    "        PRIMARY KEY (date, ticker)\n",
    "    )\n",
    "    '''\n",
    ")"
   ]
  },
  {
   "cell_type": "code",
   "execution_count": 17,
   "id": "a08b3ae8",
   "metadata": {},
   "outputs": [],
   "source": [
    "conn.commit()"
   ]
  },
  {
   "cell_type": "code",
   "execution_count": 18,
   "id": "ba55c9e7",
   "metadata": {},
   "outputs": [],
   "source": [
    "curr.execute(\"SELECT * FROM ticker_data;\")"
   ]
  },
  {
   "cell_type": "code",
   "execution_count": 19,
   "id": "1ee161aa",
   "metadata": {},
   "outputs": [],
   "source": [
    "with open('all_tickers_data.csv', 'r') as f:\n",
    "    next(f)  # Skip the header row\n",
    "\n",
    "    curr.copy_from(f, 'ticker_data', sep=',', columns=('date', 'ticker', 'open', 'high', 'low', 'close', 'volume'))\n",
    "\n",
    "conn.commit()"
   ]
  },
  {
   "cell_type": "code",
   "execution_count": 20,
   "id": "8de10d5e",
   "metadata": {},
   "outputs": [],
   "source": [
    "curr.close()"
   ]
  },
  {
   "cell_type": "code",
   "execution_count": 25,
   "id": "d057f379",
   "metadata": {},
   "outputs": [],
   "source": [
    "curr = conn.cursor()\n",
    "curr.execute('''\n",
    "            CREATE TABLE IF NOT EXISTS tickers_info (\n",
    "            ticker VARCHAR(50) PRIMARY KEY,\n",
    "            currency VARCHAR(10),\n",
    "            exchange VARCHAR(50),\n",
    "            exchangeTimezoneName VARCHAR(50),\n",
    "            exchangeTimezoneShortName VARCHAR(50),\n",
    "            fullExchangeName VARCHAR(50),\n",
    "            gmtOffSetMilliseconds INTEGER,\n",
    "            longName VARCHAR(100),\n",
    "            market VARCHAR(50),\n",
    "            marketState VARCHAR(50),\n",
    "            quoteType VARCHAR(50),\n",
    "            region VARCHAR(50),\n",
    "            shortName VARCHAR(100),\n",
    "            symbol VARCHAR(50),\n",
    "            typeDisp VARCHAR(50)\n",
    "        )\n",
    "    ''')\n",
    "\n",
    "conn.commit()"
   ]
  },
  {
   "cell_type": "code",
   "execution_count": 32,
   "id": "9f5471a6",
   "metadata": {},
   "outputs": [],
   "source": [
    "with open('filtered_tickers_data.csv', 'r') as f:\n",
    "    next(f)  # Skip the header row\n",
    "\n",
    "    curr.copy_from(f, 'tickers_info', sep=',', columns=('ticker', 'currency', 'exchange', 'exchangetimezonename',\n",
    "                                                        'exchangetimezoneshortname', 'fullexchangename',\n",
    "                                                        'gmtoffsetmilliseconds', 'longname', 'market',\n",
    "                                                        'marketstate', 'quotetype', 'region', 'shortname', 'symbol',\n",
    "                                                        'typedisp'))\n",
    "                                                        \n",
    "    \n",
    "conn.commit()"
   ]
  },
  {
   "cell_type": "code",
   "execution_count": 34,
   "id": "ac672e0f",
   "metadata": {},
   "outputs": [],
   "source": [
    "curr.close()\n"
   ]
  },
  {
   "cell_type": "code",
   "execution_count": 38,
   "id": "675788ac",
   "metadata": {},
   "outputs": [],
   "source": [
    "curr = conn.cursor()\n",
    "curr.execute('''\n",
    "    CREATE TABLE IF NOT EXISTS fund_details (\n",
    "        fund_id INTEGER PRIMARY KEY,\n",
    "        fund_house VARCHAR(100),\n",
    "        scheme_type VARCHAR(100),\n",
    "        scheme_category VARCHAR(100),\n",
    "        scheme_code INTEGER,\n",
    "        scheme_name VARCHAR(200),\n",
    "        isin_growth VARCHAR(50)\n",
    "             )\n",
    "        ''')\n",
    "             \n",
    "conn.commit()\n",
    "\n",
    "with open('dim_fund.csv', 'r') as f:\n",
    "    next(f)\n",
    "    curr.copy_from(f, 'fund_details', sep=',', columns=('fund_id', 'fund_house', 'scheme_type', 'scheme_category',\n",
    "                                                        'scheme_code', 'scheme_name', 'isin_growth'))\n",
    "\n",
    "conn.commit()\n",
    "\n",
    "curr.close()\n"
   ]
  },
  {
   "cell_type": "code",
   "execution_count": 44,
   "id": "9f161071",
   "metadata": {},
   "outputs": [],
   "source": [
    "curr = conn.cursor()\n",
    "curr.execute('''\n",
    "    CREATE TABLE IF NOT EXISTS fund_data (\n",
    "        fund_id INTEGER,\n",
    "        date DATE,\n",
    "        nav NUMERIC(10, 3)\n",
    "             )\n",
    "             ''')\n",
    "\n",
    "with open('fact_fund_prices.csv', 'r') as f:\n",
    "    next(f)\n",
    "    curr.copy_from(f, 'fund_data', sep=',', columns=('fund_id', 'date', 'nav'))\n",
    "\n",
    "conn.commit()\n",
    "\n",
    "curr.close()"
   ]
  },
  {
   "cell_type": "code",
   "execution_count": null,
   "id": "3783cfcd",
   "metadata": {},
   "outputs": [],
   "source": [
    "curr = conn.cursor()\n",
    "curr.execute('''\n",
    "    CREATE TABLE IF NOT EXISTS fund_holdings (\n",
    "        stock_name VARCHAR(100),\n",
    "        isin VARCHAR(50),\n",
    "        industry VARCHAR(100),\n",
    "        quantity NUMERIC(15, 2),\n",
    "        market_value_in_lacs NUMERIC(15, 2),\n",
    "        scheme_code INTEGER,\n",
    "        scheme_name VARCHAR(200)\n",
    "    )\n",
    "''')\n",
    "\n",
    "# Reading using copy_expert to handle CSV with quotes\n",
    "with open('fact_fund_holdings.csv', 'r', encoding='utf-8') as f:\n",
    "    # Use copy_expert so Postgres respects CSV quotes\n",
    "    curr.copy_expert(\"\"\"\n",
    "        COPY fund_holdings (stock_name, isin, industry, quantity,\n",
    "                            market_value_in_lacs, scheme_code, scheme_name)\n",
    "        FROM STDIN\n",
    "        WITH (FORMAT csv, HEADER true, QUOTE '\"')\n",
    "    \"\"\", f)\n",
    "\n",
    "conn.commit()\n"
   ]
  },
  {
   "cell_type": "code",
   "execution_count": 73,
   "id": "f66cb1fc",
   "metadata": {},
   "outputs": [],
   "source": [
    "curr.close()\n",
    "conn.close()\n"
   ]
  }
 ],
 "metadata": {
  "kernelspec": {
   "display_name": "finance",
   "language": "python",
   "name": "python3"
  },
  "language_info": {
   "codemirror_mode": {
    "name": "ipython",
    "version": 3
   },
   "file_extension": ".py",
   "mimetype": "text/x-python",
   "name": "python",
   "nbconvert_exporter": "python",
   "pygments_lexer": "ipython3",
   "version": "3.10.0"
  }
 },
 "nbformat": 4,
 "nbformat_minor": 5
}
